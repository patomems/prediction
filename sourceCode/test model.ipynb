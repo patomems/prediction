{
 "cells": [
  {
   "cell_type": "code",
   "execution_count": 1,
   "metadata": {},
   "outputs": [
    {
     "name": "stderr",
     "output_type": "stream",
     "text": [
      "/home/boyking/anaconda3/lib/python3.7/site-packages/sklearn/externals/joblib/__init__.py:15: FutureWarning:\n",
      "\n",
      "sklearn.externals.joblib is deprecated in 0.21 and will be removed in 0.23. Please import this functionality directly from joblib, which can be installed with: pip install joblib. If this warning is raised when loading pickled models, you may need to re-serialize those models with scikit-learn 0.21+.\n",
      "\n"
     ]
    }
   ],
   "source": [
    "import pandas as pd\n",
    "from datetime import datetime\n",
    "import time\n",
    "import matplotlib.pyplot as plt\n",
    "from sklearn.preprocessing import Normalizer, MinMaxScaler\n",
    "from imblearn.over_sampling import SMOTE\n",
    "from sklearn.utils import shuffle\n",
    "from sklearn.metrics import mean_absolute_error\n",
    "from sklearn.metrics import classification_report\n",
    "import numpy as np\n",
    "import seaborn as sns\n",
    "import plotly.graph_objs as go\n",
    "import chart_studio.plotly as py\n",
    "import plotly\n",
    "import joblib\n"
   ]
  },
  {
   "cell_type": "code",
   "execution_count": 2,
   "metadata": {},
   "outputs": [],
   "source": [
    "#pip install joblib"
   ]
  },
  {
   "cell_type": "code",
   "execution_count": 9,
   "metadata": {},
   "outputs": [
    {
     "ename": "NameError",
     "evalue": "name 'filename' is not defined",
     "output_type": "error",
     "traceback": [
      "\u001b[0;31m---------------------------------------------------------------------------\u001b[0m",
      "\u001b[0;31mNameError\u001b[0m                                 Traceback (most recent call last)",
      "\u001b[0;32m<ipython-input-9-18b9c5261465>\u001b[0m in \u001b[0;36m<module>\u001b[0;34m\u001b[0m\n\u001b[1;32m      1\u001b[0m \u001b[0;31m#def flood_classifier(filename, fd, validating=0, braek=None):\u001b[0m\u001b[0;34m\u001b[0m\u001b[0;34m\u001b[0m\u001b[0;34m\u001b[0m\u001b[0m\n\u001b[0;32m----> 2\u001b[0;31m \u001b[0mdata1\u001b[0m \u001b[0;34m=\u001b[0m \u001b[0mpd\u001b[0m\u001b[0;34m.\u001b[0m\u001b[0mread_excel\u001b[0m\u001b[0;34m(\u001b[0m\u001b[0;34m'data/'\u001b[0m \u001b[0;34m+\u001b[0m \u001b[0mfilename\u001b[0m \u001b[0;34m+\u001b[0m \u001b[0;34m'.xlsx'\u001b[0m\u001b[0;34m)\u001b[0m\u001b[0;34m\u001b[0m\u001b[0;34m\u001b[0m\u001b[0m\n\u001b[0m\u001b[1;32m      3\u001b[0m \u001b[0mdata1\u001b[0m\u001b[0;34m.\u001b[0m\u001b[0mshape\u001b[0m\u001b[0;34m\u001b[0m\u001b[0;34m\u001b[0m\u001b[0m\n\u001b[1;32m      4\u001b[0m \u001b[0;34m\u001b[0m\u001b[0m\n\u001b[1;32m      5\u001b[0m \u001b[0;34m\u001b[0m\u001b[0m\n",
      "\u001b[0;31mNameError\u001b[0m: name 'filename' is not defined"
     ]
    }
   ],
   "source": [
    "def flood_classifier(filename, fd, validating=0, braek=None):\n",
    "    data1 = pd.read_excel('data/' + filename + '.xlsx')\n",
    "    data1.shape\n",
    "    \n",
    "    \n",
    "\n",
    "    for i in range(1, len(data1.columns)):\n",
    "        data1[data1.columns[i]] = data1[data1.columns[i]].fillna(data1[data1.columns[i]].mean())\n",
    "        data1.describe()\n",
    "        y = data1['Flood']\n",
    "        for i in range(len(y)):\n",
    "            if (y[i] >=0.1):\n",
    "                y[i] = 1\n",
    "\n",
    "                y = pd.DataFrame(y)\n",
    "                data1.drop('Flood', axis=1, inplace=True)\n",
    "                data1.head()\n",
    "                data1.hist(figsize=(6, 6));\n",
    "                \n",
    "                d1 = pd.DataFrame()\n",
    "                d1[\"Day\"] = data1['Date']\n",
    "                d1['Months'] = data1['Date']\n",
    "                d1['Year'] = data1['Date']\n",
    "                data1['Date'] = pd.to_datetime(data1['Date'])\n",
    "                d1[\"Year\"] = data1.Date.dt.year\n",
    "                d1[\"Months\"] = data1.Date.dt.month\n",
    "                d1[\"Day\"] = data1.Date.dt.day\n",
    "                \n",
    "                dx = pd.DataFrame()\n",
    "                dx['Date'] = data1['Date']\n",
    "                dx['Discharge'] = data1['Discharge']\n",
    "                dx = dx.set_index(['Date'])\n",
    "                yearly = dx.resample('Y').sum()\n",
    "                \n",
    "                plt.figure(figsize=(9, 8))\n",
    "                plt.xlabel('YEARS')\n",
    "                plt.ylabel('Level')\n",
    "                plt.title(filename + \" : Year wise Trends\")\n",
    "                plt.plot(yearly, '--')\n",
    "                plt.savefig('static/img/flood.png')\n",
    "                \n",
    "                data1.drop('Date', inplace=True, axis=1)\n",
    "                data1 = pd.concat([d1, data1], axis=1)\n",
    "                data1.head()\n",
    "\n",
    "                locate = 0;\n",
    "                \n",
    "                for i in range(len(data1[\"Day\"])):\n",
    "                    if data1[\"Day\"][i] == 31 and data1[\"Months\"][i] == 12 and data1[\"Year\"][i] == 2015:\n",
    "                        locate = i;\n",
    "                        braek;\n",
    "                        \n",
    "                        i = locate + 1\n",
    "                        print(i)\n",
    "\n",
    "                        x_train = data1.iloc[0:i, :]\n",
    "                        y_train = y.iloc[0:i]\n",
    "                        x_test = data1.iloc[i:, :]\n",
    "                        y_test = y.iloc[i:]\n",
    "                        \n",
    "                        x_train.drop(labels=['Day', 'Months', 'Year'], inplace=True, axis=1)\n",
    "                        x_test.drop(labels=['Day', 'Months', 'Year'], inplace=True, axis=1)\n",
    "\n",
    "                        sm = SMOTE(random_state=2)\n",
    "                        X_train_res: object\n",
    "                        X_train_res, Y_train_res = sm.fit_sample(x_train, y_train)\n",
    "                        var = X_train_res.shape\n",
    "                        x_train, y_train = shuffle(X_train_res, Y_train_res, random_state=0)\n",
    "                        x_train.shape, x_test.shape, y_train.shape, y_test.shape\n",
    "\n",
    "                        \n",
    "\n",
    "                        from sklearn.discriminant_analysis import LinearDiscriminantAnalysis\n",
    "                    \n",
    "\n",
    "                        path = 'trained/' + filename + '_LDA'\n",
    "                        clf1 = joblib.load(path + '.pkl')\n",
    "                        y_predict3 = clf1.predict(x_test)\n",
    "                        print(set(y_predict3))\n",
    "                        print(clf1.score(x_train, y_train))\n",
    "                        print(clf1.score(x_test, y_test))\n",
    "                        print(classification_report(y_test, y_predict3))\n",
    "                        mae = mean_absolute_error(y_test, y_predict3)\n",
    "                        print(\"mean_absolute_error=\", mae )\n",
    "                        \n",
    "                        data1.head()\n",
    "                        \n",
    "                        def predicting(future_data):\n",
    "                            xx = future_data\n",
    "                            xx = np.array(xx)\n",
    "                            xx = xx.reshape((-1, 4))\n",
    "                            xx = clf1.predict(xx)\n",
    "                            return xx\n",
    "\n",
    "                        xx = predicting(fd)\n",
    "                        return xx, mae\n",
    "\n",
    "\n",
    "                              \n",
    "                              "
   ]
  },
  {
   "cell_type": "code",
   "execution_count": null,
   "metadata": {},
   "outputs": [],
   "source": []
  },
  {
   "cell_type": "code",
   "execution_count": null,
   "metadata": {},
   "outputs": [],
   "source": []
  }
 ],
 "metadata": {
  "kernelspec": {
   "display_name": "Python 3",
   "language": "python",
   "name": "python3"
  },
  "language_info": {
   "codemirror_mode": {
    "name": "ipython",
    "version": 3
   },
   "file_extension": ".py",
   "mimetype": "text/x-python",
   "name": "python",
   "nbconvert_exporter": "python",
   "pygments_lexer": "ipython3",
   "version": "3.7.6"
  }
 },
 "nbformat": 4,
 "nbformat_minor": 4
}
